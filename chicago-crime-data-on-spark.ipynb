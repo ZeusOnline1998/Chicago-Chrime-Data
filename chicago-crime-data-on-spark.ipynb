{
 "cells": [
  {
   "cell_type": "markdown",
   "metadata": {},
   "source": [
    "# Chicago crime dataset analysis\n",
    "---\n",
    "\n",
    "This notebook is a Spark and Python learner's to perform data analysis on some real-world data set.\n",
    "\n",
    "In this notebook, I am capriciously using Spark, Pandas, Matplotlib, Seaborn without any meaningful distinction of purpose. The point is:\n",
    "\n",
    " * Perform data reading, transforming, and querying using Apache Spark\n",
    " * Visualize using existing Python libraries. Matplotlib will remain when I know to do with it all that I'm currenly using Seaborn for.\n",
    " * Where interoperation between Spark and Matplotlib is a hindrance, I use Pandas and Numpy.\n",
    " \n",
    "This will be evolutionary and I hope that a few weeks from now, it will look much better."
   ]
  },
  {
   "cell_type": "markdown",
   "metadata": {},
   "source": [
    "---\n",
    "\n",
    "# How to run this and what to run it on?\n",
    "\n",
    "---\n",
    "\n",
    "I wrote this on Apache Spark 2.3.0. The entire notebook was executed on a single machine using the `pyspark` shell without problems.\n",
    "\n",
    "Here are some important parameters:\n",
    "\n",
    " * Executor count: 4\n",
    " * Executor Memory: 4G\n",
    " * Driver Memory: 8G\n",
    " \n",
    "This may not be necessary, but some data frames are being cached and performance degrades remarkably when the percentage of cached RDDs drops.\n",
    "\n",
    "So, the command with which the notebook was launched is:\n",
    "\n",
    "```\n",
    "pyspark --driver-memory 8g --executor-memory 4g --master local[4]\n",
    "```"
   ]
  },
  {
   "cell_type": "markdown",
   "metadata": {},
   "source": [
    "---\n",
    "\n",
    "## Get Imports out of the way\n",
    "\n"
   ]
  },
  {
   "cell_type": "markdown",
   "metadata": {},
   "source": [
    "Spark imports"
   ]
  },
  {
   "cell_type": "code",
   "execution_count": 1,
   "metadata": {},
   "outputs": [],
   "source": [
    "## spark imports\n",
    "from pyspark.sql import Row, SparkSession\n",
    "from pyspark.sql.functions import *"
   ]
  },
  {
   "cell_type": "markdown",
   "metadata": {},
   "source": [
    "Standard python data analysis imports"
   ]
  },
  {
   "cell_type": "code",
   "execution_count": 2,
   "metadata": {},
   "outputs": [],
   "source": [
    "## standard imports\n",
    "import numpy as np\n",
    "import pandas as pd\n",
    "import seaborn as sns\n",
    "import matplotlib.pyplot as plt"
   ]
  },
  {
   "cell_type": "markdown",
   "metadata": {},
   "source": [
    "Jupyter visualization options"
   ]
  },
  {
   "cell_type": "code",
   "execution_count": 3,
   "metadata": {},
   "outputs": [],
   "source": [
    "%matplotlib inline\n",
    "\n",
    "#Not too sure the following 2 work. This is a TODO\n",
    "sns.set_color_codes(\"pastel\")\n",
    "plt.rcParams[\"figure.figsize\"] = [20, 8]"
   ]
  },
  {
   "cell_type": "markdown",
   "metadata": {},
   "source": [
    "---\n",
    "## Dataset information\n",
    "\n",
    "First, clean the headers. This is just for nice presentation of headers. Having valid data frame field names that conform to Python identifier rules is good. I personally prefer that as it's always helpful to use the dot notation in many places.\n",
    "\n",
    "These are the column names, as pulled from the Kaggle dataset page [here](https://www.kaggle.com/djonafegnem/chicago-crime-data-analysis)"
   ]
  },
  {
   "cell_type": "code",
   "execution_count": 4,
   "metadata": {},
   "outputs": [],
   "source": [
    "content_cols = '''\n",
    "ID - Unique identifier for the record.\n",
    "Case Number - The Chicago Police Department RD Number (Records Division Number), which is unique to the incident.\n",
    "Date - Date when the incident occurred. this is sometimes a best estimate.\n",
    "Block - The partially redacted address where the incident occurred, placing it on the same block as the actual address.\n",
    "IUCR - The Illinois Unifrom Crime Reporting code. This is directly linked to the Primary Type and Description. See the list of IUCR codes at https://data.cityofchicago.org/d/c7ck-438e.\n",
    "Primary Type - The primary description of the IUCR code.\n",
    "Description - The secondary description of the IUCR code, a subcategory of the primary description.\n",
    "Location Description - Description of the location where the incident occurred.\n",
    "Arrest - Indicates whether an arrest was made.\n",
    "Domestic - Indicates whether the incident was domestic-related as defined by the Illinois Domestic Violence Act.\n",
    "Beat - Indicates the beat where the incident occurred. A beat is the smallest police geographic area – each beat has a dedicated police beat car. Three to five beats make up a police sector, and three sectors make up a police district. The Chicago Police Department has 22 police districts. See the beats at https://data.cityofchicago.org/d/aerh-rz74.\n",
    "District - Indicates the police district where the incident occurred. See the districts at https://data.cityofchicago.org/d/fthy-xz3r.\n",
    "Ward - The ward (City Council district) where the incident occurred. See the wards at https://data.cityofchicago.org/d/sp34-6z76.\n",
    "Community Area - Indicates the community area where the incident occurred. Chicago has 77 community areas. See the community areas at https://data.cityofchicago.org/d/cauq-8yn6.\n",
    "FBI Code - Indicates the crime classification as outlined in the FBI's National Incident-Based Reporting System (NIBRS). See the Chicago Police Department listing of these classifications at http://gis.chicagopolice.org/clearmap_crime_sums/crime_types.html.\n",
    "X Coordinate - The x coordinate of the location where the incident occurred in State Plane Illinois East NAD 1983 projection. This location is shifted from the actual location for partial redaction but falls on the same block.\n",
    "Y Coordinate - The y coordinate of the location where the incident occurred in State Plane Illinois East NAD 1983 projection. This location is shifted from the actual location for partial redaction but falls on the same block.\n",
    "Year - Year the incident occurred.\n",
    "Updated On - Date and time the record was last updated.\n",
    "Latitude - The latitude of the location where the incident occurred. This location is shifted from the actual location for partial redaction but falls on the same block.\n",
    "Longitude - The longitude of the location where the incident occurred. This location is shifted from the actual location for partial redaction but falls on the same block.\n",
    "Location - The location where the incident occurred in a format that allows for creation of maps and other geographic operations on this data portal. This location is shifted from the actual location for partial redaction but falls on the same block.'''"
   ]
  },
  {
   "cell_type": "code",
   "execution_count": 5,
   "metadata": {},
   "outputs": [],
   "source": [
    "def entry_dic(line):\n",
    "    \"\"\"\n",
    "    Convert a header - description line into a single dictionary that holds the original header as 'title', a corresponding field name as 'header', and a description.\n",
    "    \"\"\"\n",
    "    pair = line.split(' - ')\n",
    "    return {'title': pair[0], 'description': pair[1], 'header': pair[0].lower().replace(' ', '_')}"
   ]
  },
  {
   "cell_type": "markdown",
   "metadata": {},
   "source": [
    "Turn a list of headers to a list of dictionaries produced by the above function"
   ]
  },
  {
   "cell_type": "code",
   "execution_count": 6,
   "metadata": {},
   "outputs": [],
   "source": [
    "header_dics = list(map(entry_dic, list(filter(lambda l: l != '', content_cols.split('\\n')))))"
   ]
  },
  {
   "cell_type": "code",
   "execution_count": 7,
   "metadata": {},
   "outputs": [
    {
     "data": {
      "text/plain": [
       "[{'title': 'ID',\n",
       "  'description': 'Unique identifier for the record.',\n",
       "  'header': 'id'},\n",
       " {'title': 'Case Number',\n",
       "  'description': 'The Chicago Police Department RD Number (Records Division Number), which is unique to the incident.',\n",
       "  'header': 'case_number'}]"
      ]
     },
     "execution_count": 7,
     "metadata": {},
     "output_type": "execute_result"
    }
   ],
   "source": [
    "header_dics[:2]"
   ]
  },
  {
   "cell_type": "markdown",
   "metadata": {},
   "source": [
    "### Environment\n",
    "\n",
    "The data set is expected to be located at `main folder`. The dataset downloaded from the page mentioned above comes in multiple .csv files. I extracted those files into the directory (see below `ls` output).\n",
    "\n",
    "It shouldn't matter where the data comes from or how many files it's broken up into. As long as the pattern matches, that should work."
   ]
  },
  {
   "cell_type": "code",
   "execution_count": 8,
   "metadata": {},
   "outputs": [],
   "source": [
    "spark = SparkSession.builder.appName(\"Chicago_crime_analysis\").getOrCreate()"
   ]
  },
  {
   "cell_type": "markdown",
   "metadata": {},
   "source": [
    "---\n",
    "## Reading the data\n",
    "\n",
    "Using the Spark's csv reader to parse the files. It processes multiple files and returns a single data frame:"
   ]
  },
  {
   "cell_type": "code",
   "execution_count": 9,
   "metadata": {},
   "outputs": [],
   "source": [
    "df = spark.read.csv('*.csv', inferSchema=True, header=True)"
   ]
  },
  {
   "cell_type": "code",
   "execution_count": 10,
   "metadata": {},
   "outputs": [],
   "source": [
    "# Caching this data frame as it's going to be read over and over again\n",
    "df = df.cache()"
   ]
  },
  {
   "cell_type": "code",
   "execution_count": 11,
   "metadata": {},
   "outputs": [
    {
     "name": "stdout",
     "output_type": "stream",
     "text": [
      "root\n",
      " |-- _c0: integer (nullable = true)\n",
      " |-- ID: integer (nullable = true)\n",
      " |-- Case Number: string (nullable = true)\n",
      " |-- Date: string (nullable = true)\n",
      " |-- Block: string (nullable = true)\n",
      " |-- IUCR: string (nullable = true)\n",
      " |-- Primary Type: string (nullable = true)\n",
      " |-- Description: string (nullable = true)\n",
      " |-- Location Description: string (nullable = true)\n",
      " |-- Arrest: string (nullable = true)\n",
      " |-- Domestic: string (nullable = true)\n",
      " |-- Beat: string (nullable = true)\n",
      " |-- District: string (nullable = true)\n",
      " |-- Ward: string (nullable = true)\n",
      " |-- Community Area: string (nullable = true)\n",
      " |-- FBI Code: string (nullable = true)\n",
      " |-- X Coordinate: string (nullable = true)\n",
      " |-- Y Coordinate: string (nullable = true)\n",
      " |-- Year: string (nullable = true)\n",
      " |-- Updated On: string (nullable = true)\n",
      " |-- Latitude: string (nullable = true)\n",
      " |-- Longitude: string (nullable = true)\n",
      " |-- Location: string (nullable = true)\n",
      "\n"
     ]
    }
   ],
   "source": [
    "df.printSchema()"
   ]
  },
  {
   "cell_type": "markdown",
   "metadata": {},
   "source": [
    "---\n",
    "**Rename columns so that we can use the dot notation**"
   ]
  },
  {
   "cell_type": "code",
   "execution_count": 12,
   "metadata": {},
   "outputs": [],
   "source": [
    "for h in header_dics:\n",
    "    df = df.withColumnRenamed(h['title'], h['header'])"
   ]
  },
  {
   "cell_type": "markdown",
   "metadata": {},
   "source": [
    "There's a row that's been identified as having no value for `location_description`. We will just get rid of it right now...\n",
    "\n",
    "Initially implemented using a `rdd.filter` call. Although, alternatively, one can use the Dataset.filter function"
   ]
  },
  {
   "cell_type": "code",
   "execution_count": 13,
   "metadata": {
    "scrolled": false
   },
   "outputs": [],
   "source": [
    "df = df.rdd.filter(lambda rec: rec.arrest.find('Location Description') < 0).toDF().cache()"
   ]
  },
  {
   "cell_type": "markdown",
   "metadata": {},
   "source": [
    "Taking an initial look at the content of the data frame:"
   ]
  },
  {
   "cell_type": "code",
   "execution_count": 14,
   "metadata": {},
   "outputs": [
    {
     "name": "stdout",
     "output_type": "stream",
     "text": [
      "+----+-------+-----------+----------------------+-------------------+----+--------------------------+-----------------------------+--------------------+------+--------+----+--------+----+--------------+--------+------------+------------+----+----------------------+------------+-------------+-----------------------------+\n",
      "|_c0 |id     |case_number|date                  |block              |iucr|primary_type              |description                  |location_description|arrest|domestic|beat|district|ward|community_area|fbi_code|x_coordinate|y_coordinate|year|updated_on            |latitude    |longitude    |location                     |\n",
      "+----+-------+-----------+----------------------+-------------------+----+--------------------------+-----------------------------+--------------------+------+--------+----+--------+----+--------------+--------+------------+------------+----+----------------------+------------+-------------+-----------------------------+\n",
      "|879 |4786321|HM399414   |01/01/2004 12:01:00 AM|082XX S COLES AVE  |0840|THEFT                     |FINANCIAL ID THEFT: OVER $300|RESIDENCE           |False |False   |424 |4.0     |7.0 |46.0          |06      |null        |null        |2004|08/17/2015 03:03:40 PM|null        |null         |null                         |\n",
      "|2544|4676906|HM278933   |03/01/2003 12:00:00 AM|004XX W 42ND PL    |2825|OTHER OFFENSE             |HARASSMENT BY TELEPHONE      |RESIDENCE           |False |True    |935 |9.0     |11.0|61.0          |26      |1173974.0   |1876757.0   |2003|04/15/2016 08:55:02 AM|41.817229156|-87.637328162|(41.817229156, -87.637328162)|\n",
      "|2919|4789749|HM402220   |06/20/2004 11:00:00 AM|025XX N KIMBALL AVE|1752|OFFENSE INVOLVING CHILDREN|AGG CRIM SEX ABUSE FAM MEMBER|RESIDENCE           |False |False   |1413|14.0    |35.0|22.0          |20      |null        |null        |2004|08/17/2015 03:03:40 PM|null        |null         |null                         |\n",
      "+----+-------+-----------+----------------------+-------------------+----+--------------------------+-----------------------------+--------------------+------+--------+----+--------+----+--------------+--------+------------+------------+----+----------------------+------------+-------------+-----------------------------+\n",
      "only showing top 3 rows\n",
      "\n"
     ]
    }
   ],
   "source": [
    "df.show(n=3, truncate=False)"
   ]
  },
  {
   "cell_type": "markdown",
   "metadata": {},
   "source": [
    "---\n",
    "## Looking at the data"
   ]
  },
  {
   "cell_type": "code",
   "execution_count": 15,
   "metadata": {},
   "outputs": [],
   "source": [
    "# crime types\n",
    "crime_type_groups = df.groupBy('primary_type').count()"
   ]
  },
  {
   "cell_type": "code",
   "execution_count": 16,
   "metadata": {},
   "outputs": [],
   "source": [
    "crime_type_counts = crime_type_groups.orderBy('count', ascending=False)"
   ]
  },
  {
   "cell_type": "markdown",
   "metadata": {},
   "source": [
    "Total record count"
   ]
  },
  {
   "cell_type": "code",
   "execution_count": 17,
   "metadata": {
    "scrolled": false
   },
   "outputs": [
    {
     "name": "stdout",
     "output_type": "stream",
     "text": [
      "7941285\n"
     ]
    }
   ],
   "source": [
    "print(df.repartition(1).count())"
   ]
  },
  {
   "cell_type": "markdown",
   "metadata": {},
   "source": [
    "How many features do we have"
   ]
  },
  {
   "cell_type": "code",
   "execution_count": 18,
   "metadata": {},
   "outputs": [
    {
     "data": {
      "text/plain": [
       "['_c0',\n",
       " 'id',\n",
       " 'case_number',\n",
       " 'date',\n",
       " 'block',\n",
       " 'iucr',\n",
       " 'primary_type',\n",
       " 'description',\n",
       " 'location_description',\n",
       " 'arrest',\n",
       " 'domestic',\n",
       " 'beat',\n",
       " 'district',\n",
       " 'ward',\n",
       " 'community_area',\n",
       " 'fbi_code',\n",
       " 'x_coordinate',\n",
       " 'y_coordinate',\n",
       " 'year',\n",
       " 'updated_on',\n",
       " 'latitude',\n",
       " 'longitude',\n",
       " 'location']"
      ]
     },
     "execution_count": 18,
     "metadata": {},
     "output_type": "execute_result"
    }
   ],
   "source": [
    "df.columns"
   ]
  },
  {
   "cell_type": "code",
   "execution_count": 19,
   "metadata": {},
   "outputs": [
    {
     "name": "stdout",
     "output_type": "stream",
     "text": [
      "root\n",
      " |-- _c0: long (nullable = true)\n",
      " |-- id: long (nullable = true)\n",
      " |-- case_number: string (nullable = true)\n",
      " |-- date: string (nullable = true)\n",
      " |-- block: string (nullable = true)\n",
      " |-- iucr: string (nullable = true)\n",
      " |-- primary_type: string (nullable = true)\n",
      " |-- description: string (nullable = true)\n",
      " |-- location_description: string (nullable = true)\n",
      " |-- arrest: string (nullable = true)\n",
      " |-- domestic: string (nullable = true)\n",
      " |-- beat: string (nullable = true)\n",
      " |-- district: string (nullable = true)\n",
      " |-- ward: string (nullable = true)\n",
      " |-- community_area: string (nullable = true)\n",
      " |-- fbi_code: string (nullable = true)\n",
      " |-- x_coordinate: string (nullable = true)\n",
      " |-- y_coordinate: string (nullable = true)\n",
      " |-- year: string (nullable = true)\n",
      " |-- updated_on: string (nullable = true)\n",
      " |-- latitude: string (nullable = true)\n",
      " |-- longitude: string (nullable = true)\n",
      " |-- location: string (nullable = true)\n",
      "\n"
     ]
    }
   ],
   "source": [
    "#Let's see the schema of the data frame:\n",
    "df.printSchema()"
   ]
  },
  {
   "cell_type": "markdown",
   "metadata": {},
   "source": [
    "### Crime types\n",
    "\n",
    "These are the top 20 most frequent crime types:"
   ]
  },
  {
   "cell_type": "code",
   "execution_count": 20,
   "metadata": {},
   "outputs": [
    {
     "name": "stdout",
     "output_type": "stream",
     "text": [
      "+--------------------------------+-------+\n",
      "|primary_type                    |count  |\n",
      "+--------------------------------+-------+\n",
      "|THEFT                           |1640506|\n",
      "|BATTERY                         |1442717|\n",
      "|CRIMINAL DAMAGE                 |923000 |\n",
      "|NARCOTICS                       |885431 |\n",
      "|OTHER OFFENSE                   |491923 |\n",
      "|ASSAULT                         |481661 |\n",
      "|BURGLARY                        |470958 |\n",
      "|MOTOR VEHICLE THEFT             |370548 |\n",
      "|ROBBERY                         |300453 |\n",
      "|DECEPTIVE PRACTICE              |280931 |\n",
      "|CRIMINAL TRESPASS               |229367 |\n",
      "|PROSTITUTION                    |86401  |\n",
      "|WEAPONS VIOLATION               |77429  |\n",
      "|PUBLIC PEACE VIOLATION          |58548  |\n",
      "|OFFENSE INVOLVING CHILDREN      |51441  |\n",
      "|CRIM SEXUAL ASSAULT             |29868  |\n",
      "|SEX OFFENSE                     |28707  |\n",
      "|GAMBLING                        |18806  |\n",
      "|LIQUOR LAW VIOLATION            |17513  |\n",
      "|INTERFERENCE WITH PUBLIC OFFICER|15710  |\n",
      "+--------------------------------+-------+\n",
      "only showing top 20 rows\n",
      "\n"
     ]
    }
   ],
   "source": [
    "crime_type_counts.show(truncate=False)"
   ]
  },
  {
   "cell_type": "markdown",
   "metadata": {},
   "source": [
    "I like doing some things by hand, but it's clear that here, one can obtain a Pandas data frame by calling:\n",
    "\n",
    "``\n",
    "crime_type_counts.toPandas()\n",
    "``"
   ]
  },
  {
   "cell_type": "code",
   "execution_count": 21,
   "metadata": {},
   "outputs": [],
   "source": [
    "counts_pddf = pd.DataFrame(crime_type_counts.rdd.map(lambda l: l.asDict()).collect())"
   ]
  },
  {
   "cell_type": "code",
   "execution_count": 22,
   "metadata": {
    "scrolled": true
   },
   "outputs": [
    {
     "data": {
      "text/html": [
       "<div>\n",
       "<style scoped>\n",
       "    .dataframe tbody tr th:only-of-type {\n",
       "        vertical-align: middle;\n",
       "    }\n",
       "\n",
       "    .dataframe tbody tr th {\n",
       "        vertical-align: top;\n",
       "    }\n",
       "\n",
       "    .dataframe thead th {\n",
       "        text-align: right;\n",
       "    }\n",
       "</style>\n",
       "<table border=\"1\" class=\"dataframe\">\n",
       "  <thead>\n",
       "    <tr style=\"text-align: right;\">\n",
       "      <th></th>\n",
       "      <th>primary_type</th>\n",
       "      <th>count</th>\n",
       "    </tr>\n",
       "  </thead>\n",
       "  <tbody>\n",
       "    <tr>\n",
       "      <td>0</td>\n",
       "      <td>THEFT</td>\n",
       "      <td>1640506</td>\n",
       "    </tr>\n",
       "    <tr>\n",
       "      <td>1</td>\n",
       "      <td>BATTERY</td>\n",
       "      <td>1442717</td>\n",
       "    </tr>\n",
       "    <tr>\n",
       "      <td>2</td>\n",
       "      <td>CRIMINAL DAMAGE</td>\n",
       "      <td>923000</td>\n",
       "    </tr>\n",
       "    <tr>\n",
       "      <td>3</td>\n",
       "      <td>NARCOTICS</td>\n",
       "      <td>885431</td>\n",
       "    </tr>\n",
       "    <tr>\n",
       "      <td>4</td>\n",
       "      <td>OTHER OFFENSE</td>\n",
       "      <td>491923</td>\n",
       "    </tr>\n",
       "    <tr>\n",
       "      <td>5</td>\n",
       "      <td>ASSAULT</td>\n",
       "      <td>481661</td>\n",
       "    </tr>\n",
       "    <tr>\n",
       "      <td>6</td>\n",
       "      <td>BURGLARY</td>\n",
       "      <td>470958</td>\n",
       "    </tr>\n",
       "    <tr>\n",
       "      <td>7</td>\n",
       "      <td>MOTOR VEHICLE THEFT</td>\n",
       "      <td>370548</td>\n",
       "    </tr>\n",
       "    <tr>\n",
       "      <td>8</td>\n",
       "      <td>ROBBERY</td>\n",
       "      <td>300453</td>\n",
       "    </tr>\n",
       "    <tr>\n",
       "      <td>9</td>\n",
       "      <td>DECEPTIVE PRACTICE</td>\n",
       "      <td>280931</td>\n",
       "    </tr>\n",
       "  </tbody>\n",
       "</table>\n",
       "</div>"
      ],
      "text/plain": [
       "          primary_type    count\n",
       "0                THEFT  1640506\n",
       "1              BATTERY  1442717\n",
       "2      CRIMINAL DAMAGE   923000\n",
       "3            NARCOTICS   885431\n",
       "4        OTHER OFFENSE   491923\n",
       "5              ASSAULT   481661\n",
       "6             BURGLARY   470958\n",
       "7  MOTOR VEHICLE THEFT   370548\n",
       "8              ROBBERY   300453\n",
       "9   DECEPTIVE PRACTICE   280931"
      ]
     },
     "execution_count": 22,
     "metadata": {},
     "output_type": "execute_result"
    }
   ],
   "source": [
    "counts_pddf.head(10)"
   ]
  },
  {
   "cell_type": "code",
   "execution_count": 23,
   "metadata": {
    "scrolled": false
   },
   "outputs": [
    {
     "data": {
      "text/plain": [
       "[Text(0, 0.5, 'Primary Type'), Text(0.5, 0, 'Crimes Record Count')]"
      ]
     },
     "execution_count": 23,
     "metadata": {},
     "output_type": "execute_result"
    },
    {
     "data": {
      "image/png": "[encoded data removed]",
      "text/plain": [
       "<Figure size 1440x576 with 1 Axes>"
      ]
     },
     "metadata": {},
     "output_type": "display_data"
    }
   ],
   "source": [
    "plt.rcParams[\"figure.figsize\"] = [20, 8]\n",
    "\n",
    "sns.set(style=\"whitegrid\")\n",
    "sns.set_color_codes(\"pastel\")\n",
    "\n",
    "#sns.despine(left=True, bottom=True)\n",
    "type_graph = sns.barplot(x='count', y='primary_type', data=counts_pddf)\n",
    "type_graph.set(ylabel=\"Primary Type\", xlabel=\"Crimes Record Count\")"
   ]
  },
  {
   "cell_type": "markdown",
   "metadata": {},
   "source": [
    "### Recorded Date"
   ]
  },
  {
   "cell_type": "code",
   "execution_count": 24,
   "metadata": {},
   "outputs": [],
   "source": [
    "import datetime\n",
    "from pyspark.sql.functions import *"
   ]
  },
  {
   "cell_type": "code",
   "execution_count": 25,
   "metadata": {},
   "outputs": [
    {
     "name": "stdout",
     "output_type": "stream",
     "text": [
      "+----------------------+----------------------+\n",
      "|first_record_date     |latest_record_date    |\n",
      "+----------------------+----------------------+\n",
      "|01/01/2001 01:00:00 AM|12/31/2016 12:56:00 AM|\n",
      "+----------------------+----------------------+\n",
      "\n"
     ]
    }
   ],
   "source": [
    "df.select(min('date').alias('first_record_date'), max('date').alias('latest_record_date')).show(truncate=False)"
   ]
  },
  {
   "cell_type": "markdown",
   "metadata": {},
   "source": [
    "So it seems that the dataset we're dealing with comprises records from **2001-01-01** to **2016-12-31**"
   ]
  },
  {
   "cell_type": "markdown",
   "metadata": {},
   "source": [
    "---\n",
    "Converting dates to a timestamp type. As seen in the schema output above, the `date` field is of `string` type, which won't be very helpful\n",
    "\n",
    "The format specifier that seems valid for date like '02/23/2006 09:06:22 PM' is **`'MM/dd/yyyy hh:mm:ss a'`**"
   ]
  },
  {
   "cell_type": "code",
   "execution_count": 26,
   "metadata": {},
   "outputs": [],
   "source": [
    "df = df.withColumn('date_time', to_timestamp('date', 'MM/dd/yyyy hh:mm:ss a'))\\\n",
    "       .withColumn('month', trunc('date_time', 'YYYY')) #adding a month column to be able to view stats on a monthly basis"
   ]
  },
  {
   "cell_type": "code",
   "execution_count": 27,
   "metadata": {},
   "outputs": [
    {
     "name": "stdout",
     "output_type": "stream",
     "text": [
      "+----------------------+-------------------+----------+\n",
      "|date                  |date_time          |month     |\n",
      "+----------------------+-------------------+----------+\n",
      "|01/01/2004 12:01:00 AM|2004-01-01 00:01:00|2004-01-01|\n",
      "|03/01/2003 12:00:00 AM|2003-03-01 00:00:00|2003-01-01|\n",
      "+----------------------+-------------------+----------+\n",
      "only showing top 2 rows\n",
      "\n"
     ]
    }
   ],
   "source": [
    "df.select(['date','date_time', 'month'])\\\n",
    "  .show(n=2, truncate=False)"
   ]
  },
  {
   "cell_type": "markdown",
   "metadata": {},
   "source": [
    "### Primary type and arrest"
   ]
  },
  {
   "cell_type": "code",
   "execution_count": 28,
   "metadata": {},
   "outputs": [
    {
     "name": "stdout",
     "output_type": "stream",
     "text": [
      "\n",
      "+------+----------+------+\n",
      "|arrest|month     |count |\n",
      "+------+----------+------+\n",
      "|False |2001-01-01|400628|\n",
      "|True  |2001-01-01|167890|\n",
      "|False |2002-01-01|348074|\n",
      "+------+----------+------+\n",
      "only showing top 3 rows\n",
      "\n"
     ]
    }
   ],
   "source": [
    "# crime types and arrest over years:\n",
    "type_arrest_date = df.groupBy(['arrest', 'month'])\\\n",
    "                     .count()\\\n",
    "                     .orderBy(['month', 'count'], ascending=[True, False])\n",
    "print()\n",
    "type_arrest_date.show(3, truncate=False)"
   ]
  },
  {
   "cell_type": "code",
   "execution_count": 29,
   "metadata": {},
   "outputs": [],
   "source": [
    "# A small detour to learn/see how datetime works\n",
    "import datetime"
   ]
  },
  {
   "cell_type": "code",
   "execution_count": 30,
   "metadata": {},
   "outputs": [
    {
     "data": {
      "text/plain": [
       "'10'"
      ]
     },
     "execution_count": 30,
     "metadata": {},
     "output_type": "execute_result"
    }
   ],
   "source": [
    "datetime.datetime.now()\n",
    "datetime.datetime.strftime(datetime.datetime.now(), '%H')"
   ]
  },
  {
   "cell_type": "code",
   "execution_count": 31,
   "metadata": {},
   "outputs": [],
   "source": [
    "# A pandas data frame of the collected dictionary version of the date-grouped DF above\n",
    "type_arrest_pddf = pd.DataFrame(type_arrest_date.rdd.map(lambda l: l.asDict()).collect())"
   ]
  },
  {
   "cell_type": "markdown",
   "metadata": {},
   "source": [
    "Convert date/time values to Pandas type\n",
    "\n",
    "*A lot of this is unnecessary, but that's called fiddling...*"
   ]
  },
  {
   "cell_type": "code",
   "execution_count": 32,
   "metadata": {},
   "outputs": [],
   "source": [
    "type_arrest_pddf['yearpd'] = type_arrest_pddf['month'].apply(lambda dt: datetime.datetime.strftime(pd.Timestamp(dt), '%Y'))"
   ]
  },
  {
   "cell_type": "code",
   "execution_count": 33,
   "metadata": {},
   "outputs": [
    {
     "data": {
      "text/html": [
       "<div>\n",
       "<style scoped>\n",
       "    .dataframe tbody tr th:only-of-type {\n",
       "        vertical-align: middle;\n",
       "    }\n",
       "\n",
       "    .dataframe tbody tr th {\n",
       "        vertical-align: top;\n",
       "    }\n",
       "\n",
       "    .dataframe thead th {\n",
       "        text-align: right;\n",
       "    }\n",
       "</style>\n",
       "<table border=\"1\" class=\"dataframe\">\n",
       "  <thead>\n",
       "    <tr style=\"text-align: right;\">\n",
       "      <th></th>\n",
       "      <th>arrest</th>\n",
       "      <th>month</th>\n",
       "      <th>count</th>\n",
       "      <th>yearpd</th>\n",
       "    </tr>\n",
       "  </thead>\n",
       "  <tbody>\n",
       "    <tr>\n",
       "      <td>0</td>\n",
       "      <td>False</td>\n",
       "      <td>2001-01-01</td>\n",
       "      <td>400628</td>\n",
       "      <td>2001</td>\n",
       "    </tr>\n",
       "    <tr>\n",
       "      <td>1</td>\n",
       "      <td>True</td>\n",
       "      <td>2001-01-01</td>\n",
       "      <td>167890</td>\n",
       "      <td>2001</td>\n",
       "    </tr>\n",
       "    <tr>\n",
       "      <td>2</td>\n",
       "      <td>False</td>\n",
       "      <td>2002-01-01</td>\n",
       "      <td>348074</td>\n",
       "      <td>2002</td>\n",
       "    </tr>\n",
       "    <tr>\n",
       "      <td>3</td>\n",
       "      <td>True</td>\n",
       "      <td>2002-01-01</td>\n",
       "      <td>142805</td>\n",
       "      <td>2002</td>\n",
       "    </tr>\n",
       "    <tr>\n",
       "      <td>4</td>\n",
       "      <td>False</td>\n",
       "      <td>2003-01-01</td>\n",
       "      <td>334414</td>\n",
       "      <td>2003</td>\n",
       "    </tr>\n",
       "  </tbody>\n",
       "</table>\n",
       "</div>"
      ],
      "text/plain": [
       "   arrest       month   count yearpd\n",
       "0   False  2001-01-01  400628   2001\n",
       "1    True  2001-01-01  167890   2001\n",
       "2   False  2002-01-01  348074   2002\n",
       "3    True  2002-01-01  142805   2002\n",
       "4   False  2003-01-01  334414   2003"
      ]
     },
     "execution_count": 33,
     "metadata": {},
     "output_type": "execute_result"
    }
   ],
   "source": [
    "type_arrest_pddf['arrest'] = type_arrest_pddf['arrest'].apply(lambda l: l=='True')\n",
    "type_arrest_pddf.head(5)"
   ]
  },
  {
   "cell_type": "markdown",
   "metadata": {},
   "source": [
    "### How have arrests evolved over the 16 years?"
   ]
  },
  {
   "cell_type": "code",
   "execution_count": 34,
   "metadata": {},
   "outputs": [
    {
     "name": "stderr",
     "output_type": "stream",
     "text": [
      "c:\\users\\zeust\\appdata\\local\\programs\\python\\python37\\lib\\site-packages\\pandas\\plotting\\_matplotlib\\converter.py:103: FutureWarning: Using an implicitly registered datetime converter for a matplotlib plotting method. The converter was registered by pandas on import. Future versions of pandas will require you to explicitly register matplotlib converters.\n",
      "\n",
      "To register the converters:\n",
      "\t>>> from pandas.plotting import register_matplotlib_converters\n",
      "\t>>> register_matplotlib_converters()\n",
      "  warnings.warn(msg, FutureWarning)\n"
     ]
    },
    {
     "data": {
      "text/plain": [
       "<matplotlib.legend.Legend at 0x1a948abcc88>"
      ]
     },
     "execution_count": 34,
     "metadata": {},
     "output_type": "execute_result"
    },
    {
     "data": {
      "image/png": "[encoded data removed]",
      "text/plain": [
       "<Figure size 1440x576 with 1 Axes>"
      ]
     },
     "metadata": {},
     "output_type": "display_data"
    }
   ],
   "source": [
    "# Data for plotting\n",
    "t = type_arrest_pddf['count'] - 20 # np.arange(0.0, 2.0, 0.01)\n",
    "s = type_arrest_pddf['month']\n",
    "\n",
    "arrested = type_arrest_pddf[type_arrest_pddf['arrest'] == True]\n",
    "not_arrested = type_arrest_pddf[type_arrest_pddf['arrest'] == False]\n",
    "\n",
    "# Note that using plt.subplots below is equivalent to using\n",
    "# fig = plt.figure() and then ax = fig.add_subplot(111)\n",
    "fig, ax = plt.subplots()\n",
    "ax.plot(arrested['month'], arrested['count'], label='Arrested')\n",
    "ax.plot(not_arrested['month'], not_arrested['count'], label='Not Arrested')\n",
    "\n",
    "ax.set(xlabel='Year - 2001-2017', ylabel='Total records',\n",
    "       title='Year-on-year crime records')\n",
    "ax.grid(b=True, which='both', axis='y')\n",
    "ax.legend()"
   ]
  },
  {
   "cell_type": "markdown",
   "metadata": {},
   "source": [
    "It looks like the relative distance between arrests and non-arrests has remained constant.."
   ]
  },
  {
   "cell_type": "markdown",
   "metadata": {},
   "source": [
    "### What time of the day are ciminal the busiest?"
   ]
  },
  {
   "cell_type": "code",
   "execution_count": 35,
   "metadata": {},
   "outputs": [],
   "source": [
    "# Extract the \"hour\" field from the date into a separate column called \"hour\"\n",
    "df_hour = df.withColumn('hour', hour(df['date_time']))"
   ]
  },
  {
   "cell_type": "code",
   "execution_count": 36,
   "metadata": {},
   "outputs": [],
   "source": [
    "# Derive a data frame with crime counts per hour of the day:\n",
    "hourly_count = df_hour.groupBy(['primary_type', 'hour']).count().cache()\n",
    "hourly_total_count = hourly_count.groupBy('hour').sum('count')"
   ]
  },
  {
   "cell_type": "code",
   "execution_count": 37,
   "metadata": {},
   "outputs": [],
   "source": [
    "hourly_count_pddf = pd.DataFrame(hourly_total_count.select(hourly_total_count['hour'], hourly_total_count['sum(count)'].alias('count'))\\\n",
    "                                .rdd.map(lambda l: l.asDict())\\\n",
    "                                 .collect())"
   ]
  },
  {
   "cell_type": "code",
   "execution_count": 38,
   "metadata": {},
   "outputs": [],
   "source": [
    "hourly_count_pddf = hourly_count_pddf.sort_values(by='hour')"
   ]
  },
  {
   "cell_type": "markdown",
   "metadata": {},
   "source": [
    "Seems that 18-22 are the worst hours..."
   ]
  },
  {
   "cell_type": "code",
   "execution_count": 39,
   "metadata": {},
   "outputs": [
    {
     "data": {
      "text/plain": [
       "<matplotlib.legend.Legend at 0x1a948b4c948>"
      ]
     },
     "execution_count": 39,
     "metadata": {},
     "output_type": "execute_result"
    },
    {
     "data": {
      "image/png": "[encoded data removed]",
      "text/plain": [
       "<Figure size 1440x576 with 1 Axes>"
      ]
     },
     "metadata": {},
     "output_type": "display_data"
    }
   ],
   "source": [
    "fig, ax = plt.subplots()\n",
    "ax.plot(hourly_count_pddf['hour'], hourly_count_pddf['count'], label='Hourly Count')\n",
    "\n",
    "ax.set(xlabel='Hour of Day', ylabel='Total records',\n",
    "       title='Overall hourly crime numbers')\n",
    "ax.grid(b=True, which='both', axis='y')\n",
    "ax.legend()"
   ]
  },
  {
   "cell_type": "markdown",
   "metadata": {},
   "source": [
    "### Types of locations with crime entries"
   ]
  },
  {
   "cell_type": "code",
   "execution_count": 40,
   "metadata": {},
   "outputs": [
    {
     "data": {
      "text/plain": [
       "173"
      ]
     },
     "execution_count": 40,
     "metadata": {},
     "output_type": "execute_result"
    }
   ],
   "source": [
    "# Number of types of location recorded in the dataset\n",
    "df.select('location_description').distinct().count()"
   ]
  },
  {
   "cell_type": "markdown",
   "metadata": {},
   "source": [
    "What are the top 10 places where crime occurred?"
   ]
  },
  {
   "cell_type": "code",
   "execution_count": 47,
   "metadata": {},
   "outputs": [
    {
     "name": "stdout",
     "output_type": "stream",
     "text": [
      "+--------------------+-------+\n",
      "|location_description|  count|\n",
      "+--------------------+-------+\n",
      "|              STREET|2101843|\n",
      "|           RESIDENCE|1341750|\n",
      "|            SIDEWALK| 815595|\n",
      "|           APARTMENT| 812512|\n",
      "|               OTHER| 294286|\n",
      "|PARKING LOT/GARAG...| 225454|\n",
      "|               ALLEY| 180155|\n",
      "|SCHOOL, PUBLIC, B...| 173750|\n",
      "|    RESIDENCE-GARAGE| 158550|\n",
      "|RESIDENCE PORCH/H...| 138492|\n",
      "+--------------------+-------+\n",
      "only showing top 10 rows\n",
      "\n"
     ]
    }
   ],
   "source": [
    "location_hour = df.groupBy(['location_description']).count().orderBy('count', ascending=False).show(10)"
   ]
  },
  {
   "cell_type": "markdown",
   "metadata": {},
   "source": [
    "Can we see how the top crime locations are affected over the day?"
   ]
  },
  {
   "cell_type": "code",
   "execution_count": 48,
   "metadata": {},
   "outputs": [
    {
     "ename": "AttributeError",
     "evalue": "'NoneType' object has no attribute 'where'",
     "output_type": "error",
     "traceback": [
      "\u001b[1;31m---------------------------------------------------------------------------\u001b[0m",
      "\u001b[1;31mAttributeError\u001b[0m                            Traceback (most recent call last)",
      "\u001b[1;32m<ipython-input-48-7ff043e03bd7>\u001b[0m in \u001b[0;36m<module>\u001b[1;34m\u001b[0m\n\u001b[0;32m      1\u001b[0m \u001b[1;31m#Being on the street and at home\u001b[0m\u001b[1;33m\u001b[0m\u001b[1;33m\u001b[0m\u001b[1;33m\u001b[0m\u001b[0m\n\u001b[1;32m----> 2\u001b[1;33m \u001b[0mstreet_home_hour\u001b[0m \u001b[1;33m=\u001b[0m \u001b[0mlocation_hour\u001b[0m\u001b[1;33m.\u001b[0m\u001b[0mwhere\u001b[0m\u001b[1;33m(\u001b[0m\u001b[1;33m(\u001b[0m\u001b[0mlocation_hour\u001b[0m\u001b[1;33m[\u001b[0m\u001b[1;34m'location_description'\u001b[0m\u001b[1;33m]\u001b[0m \u001b[1;33m==\u001b[0m \u001b[1;34m'STREET'\u001b[0m\u001b[1;33m)\u001b[0m \u001b[1;33m|\u001b[0m \u001b[1;33m(\u001b[0m\u001b[0mlocation_hour\u001b[0m\u001b[1;33m[\u001b[0m\u001b[1;34m'location_description'\u001b[0m\u001b[1;33m]\u001b[0m \u001b[1;33m==\u001b[0m \u001b[1;34m'RESIDENCE'\u001b[0m\u001b[1;33m)\u001b[0m\u001b[1;33m)\u001b[0m\u001b[1;33m\u001b[0m\u001b[1;33m\u001b[0m\u001b[0m\n\u001b[0m",
      "\u001b[1;31mAttributeError\u001b[0m: 'NoneType' object has no attribute 'where'"
     ]
    }
   ],
   "source": [
    "#Being on the street and at home\n",
    "street_home_hour = location_hour.where((location_hour['location_description'] == 'STREET') | (location_hour['location_description'] == 'RESIDENCE'))"
   ]
  },
  {
   "cell_type": "code",
   "execution_count": null,
   "metadata": {},
   "outputs": [],
   "source": [
    "#a data frame with location descriptions and counts of recorded crimes, and hours...\n",
    "street_home_hour_pddf = pd.DataFrame(street_home_hour.rdd.map(lambda row: row.asDict()).collect())\n",
    "street_home_hour_pddf = street_home_hour_pddf.sort_values(by='hour')"
   ]
  },
  {
   "cell_type": "code",
   "execution_count": null,
   "metadata": {},
   "outputs": [],
   "source": [
    "figure, axes = plt.subplots()\n",
    "axes.plot(street_home_hour_pddf[street_home_hour_pddf['location_description'] == 'RESIDENCE']['hour'], \n",
    "          street_home_hour_pddf[street_home_hour_pddf['location_description'] == 'RESIDENCE']['count'],\n",
    "         label='Crimes at home')\n",
    "\n",
    "axes.plot(street_home_hour_pddf[street_home_hour_pddf['location_description'] == 'STREET']['hour'], \n",
    "          street_home_hour_pddf[street_home_hour_pddf['location_description'] == 'STREET']['count'],\n",
    "         label='Crimes on the street')\n",
    "\n",
    "axes.legend()\n",
    "ax.grid(b=True, which='both', axis='y')\n"
   ]
  },
  {
   "cell_type": "markdown",
   "metadata": {},
   "source": [
    "#### This may be just me, but it seems that crimes at home increase when crimes on the street decrease. Could it be that it's the same kind of people that are in charge of both home and streets?"
   ]
  },
  {
   "cell_type": "markdown",
   "metadata": {},
   "source": [
    "### Domestic crimes:"
   ]
  },
  {
   "cell_type": "code",
   "execution_count": null,
   "metadata": {},
   "outputs": [],
   "source": [
    "domestic_hour = pd.DataFrame(df_hour.groupBy(['domestic', 'hour']).count().orderBy('hour').rdd.map(lambda row: row.asDict()).collect())"
   ]
  },
  {
   "cell_type": "code",
   "execution_count": null,
   "metadata": {},
   "outputs": [],
   "source": [
    "dom = domestic_hour[domestic_hour['domestic'] == 'True']['count']\n",
    "non_dom = domestic_hour[domestic_hour['domestic'] == 'False']['count']\n",
    "\n",
    "either_dom = domestic_hour.groupby(by=['hour']).sum()['count']\n",
    "\n",
    "dom_keys = domestic_hour[domestic_hour['domestic'] == 'False']['hour']"
   ]
  },
  {
   "cell_type": "markdown",
   "metadata": {},
   "source": [
    "#### How do domestic crimes compare the other crimes?"
   ]
  },
  {
   "cell_type": "code",
   "execution_count": null,
   "metadata": {},
   "outputs": [],
   "source": [
    "figure, axes = plt.subplots()\n",
    "\n",
    "axes.plot(dom_keys, either_dom, label='Total hourly count')\n",
    "axes.plot(dom_keys, dom, label='Domestic crime count')\n",
    "axes.plot(dom_keys, non_dom, label='Non-Domestic hourly count')\n",
    "\n",
    "axes.legend()\n",
    "axes.grid(which='b', b=True)"
   ]
  },
  {
   "cell_type": "markdown",
   "metadata": {},
   "source": [
    "### A closer look at crime date and time\n",
    "\n",
    "The information given here indicates when the crime is perpetrated. The date/time field may be able to draw a meaningful trend that can be used to predict crime. However, I believe that this leads much more to external factors, such as policy changes, law inforcement-related factors, and so on.\n",
    "\n",
    "It's much more likely that time-related features that are more closely relatable to crime occurence be better predictors than the date and time. I mean, knowing the month of the year, the day of the week, and the hour of the day that the crime occurred can enable better chances of predicting accurately than simply knowing \"when\" AD crimes occurred."
   ]
  },
  {
   "cell_type": "markdown",
   "metadata": {},
   "source": [
    "Adding predictors (so far fields) that read time information:\n",
    "\n",
    " * hour of day (already added the 'hour' field)\n",
    " * day of week\n",
    " * month of year\n",
    " * day in a range. Instead of using the entire date-time, we'll use a \"day sequence\" that is counted from 2001-01-01."
   ]
  },
  {
   "cell_type": "code",
   "execution_count": 49,
   "metadata": {},
   "outputs": [],
   "source": [
    "df_dates = df_hour.withColumn('week_day', dayofweek(df_hour['date_time']))\\\n",
    "                 .withColumn('year_month', month(df_hour['date_time']))\\\n",
    "                 .withColumn('month_day', dayofmonth(df_hour['date_time']))\\\n",
    "                 .withColumn('date_number', datediff(df['date_time'], to_date(lit('2001-01-01'), format='yyyy-MM-dd')))\\\n",
    "                 .cache()"
   ]
  },
  {
   "cell_type": "code",
   "execution_count": 50,
   "metadata": {},
   "outputs": [
    {
     "name": "stdout",
     "output_type": "stream",
     "text": [
      "+----------------------+----------+----+--------+----+----------+---------+-----------+\n",
      "|date                  |month     |hour|week_day|year|year_month|month_day|date_number|\n",
      "+----------------------+----------+----+--------+----+----------+---------+-----------+\n",
      "|01/01/2004 12:01:00 AM|2004-01-01|0   |5       |2004|1         |1        |1095       |\n",
      "|03/01/2003 12:00:00 AM|2003-01-01|0   |7       |2003|3         |1        |789        |\n",
      "|06/20/2004 11:00:00 AM|2004-01-01|11  |1       |2004|6         |20       |1266       |\n",
      "|12/30/2004 08:00:00 PM|2004-01-01|20  |5       |2004|12        |30       |1459       |\n",
      "|05/01/2003 01:00:00 AM|2003-01-01|1   |5       |2003|5         |1        |850        |\n",
      "|08/01/2004 12:01:00 AM|2004-01-01|0   |1       |2004|8         |1        |1308       |\n",
      "|01/01/2001 11:00:00 AM|2001-01-01|11  |2       |2001|1         |1        |0          |\n",
      "|03/15/2003 12:00:00 AM|2003-01-01|0   |7       |2003|3         |15       |803        |\n",
      "|09/16/2004 10:00:00 AM|2004-01-01|10  |5       |2004|9         |16       |1354       |\n",
      "|01/01/2003 12:00:00 AM|2003-01-01|0   |4       |2003|1         |1        |730        |\n",
      "|06/05/2003 12:00:00 AM|2003-01-01|0   |5       |2003|6         |5        |885        |\n",
      "|11/01/2004 12:01:00 AM|2004-01-01|0   |2       |2004|11        |1        |1400       |\n",
      "|01/01/2003 12:00:00 AM|2003-01-01|0   |4       |2003|1         |1        |730        |\n",
      "|11/01/2004 12:00:00 AM|2004-01-01|0   |2       |2004|11        |1        |1400       |\n",
      "|11/01/2003 08:00:00 AM|2003-01-01|8   |7       |2003|11        |1        |1034       |\n",
      "|11/15/2003 09:00:00 AM|2003-01-01|9   |7       |2003|11        |15       |1048       |\n",
      "|01/02/2003 08:00:00 AM|2003-01-01|8   |5       |2003|1         |2        |731        |\n",
      "|01/01/2001 12:00:00 AM|2001-01-01|0   |2       |2001|1         |1        |0          |\n",
      "|01/01/2001 12:00:00 AM|2001-01-01|0   |2       |2001|1         |1        |0          |\n",
      "|06/14/2002 04:00:00 PM|2002-01-01|16  |6       |2002|6         |14       |529        |\n",
      "+----------------------+----------+----+--------+----+----------+---------+-----------+\n",
      "only showing top 20 rows\n",
      "\n"
     ]
    }
   ],
   "source": [
    "df_dates.select(['date', 'month', 'hour', 'week_day', 'year', 'year_month', 'month_day', 'date_number']).show(20, truncate=False)"
   ]
  },
  {
   "cell_type": "markdown",
   "metadata": {},
   "source": [
    "## Day of week crime levels\n",
    "\n",
    "It seems intriguing that the're little variance... But bad people are bad all week, aren't they..."
   ]
  },
  {
   "cell_type": "code",
   "execution_count": 51,
   "metadata": {},
   "outputs": [],
   "source": [
    "week_day_crime_counts = df_dates.groupBy('week_day').count()"
   ]
  },
  {
   "cell_type": "code",
   "execution_count": 52,
   "metadata": {},
   "outputs": [],
   "source": [
    "week_day_crime_counts_pddf = pd.DataFrame(week_day_crime_counts.orderBy('week_day').rdd.map(lambda e: e.asDict()).collect())"
   ]
  },
  {
   "cell_type": "code",
   "execution_count": 53,
   "metadata": {},
   "outputs": [
    {
     "data": {
      "text/plain": [
       "<matplotlib.axes._subplots.AxesSubplot at 0x1a94652b188>"
      ]
     },
     "execution_count": 53,
     "metadata": {},
     "output_type": "execute_result"
    },
    {
     "data": {
      "image/png": "[encoded data removed]",
      "text/plain": [
       "<Figure size 1440x576 with 1 Axes>"
      ]
     },
     "metadata": {},
     "output_type": "display_data"
    }
   ],
   "source": [
    "sns.barplot(data=week_day_crime_counts_pddf, x='week_day', y='count')"
   ]
  },
  {
   "cell_type": "markdown",
   "metadata": {},
   "source": [
    "## Month of year\n",
    "\n",
    "It seems that May-August are the busiest months for criminals... What could be the reason?"
   ]
  },
  {
   "cell_type": "code",
   "execution_count": 54,
   "metadata": {},
   "outputs": [],
   "source": [
    "year_month_crime_counts = df_dates.groupBy('year_month').count()"
   ]
  },
  {
   "cell_type": "code",
   "execution_count": 55,
   "metadata": {},
   "outputs": [],
   "source": [
    "year_month_crime_counts_pddf = pd.DataFrame(year_month_crime_counts.orderBy('year_month').rdd.map(lambda e: e.asDict()).collect())"
   ]
  },
  {
   "cell_type": "code",
   "execution_count": 57,
   "metadata": {},
   "outputs": [
    {
     "data": {
      "text/html": [
       "<div>\n",
       "<style scoped>\n",
       "    .dataframe tbody tr th:only-of-type {\n",
       "        vertical-align: middle;\n",
       "    }\n",
       "\n",
       "    .dataframe tbody tr th {\n",
       "        vertical-align: top;\n",
       "    }\n",
       "\n",
       "    .dataframe thead th {\n",
       "        text-align: right;\n",
       "    }\n",
       "</style>\n",
       "<table border=\"1\" class=\"dataframe\">\n",
       "  <thead>\n",
       "    <tr style=\"text-align: right;\">\n",
       "      <th></th>\n",
       "      <th>year_month</th>\n",
       "      <th>count</th>\n",
       "    </tr>\n",
       "  </thead>\n",
       "  <tbody>\n",
       "    <tr>\n",
       "      <td>0</td>\n",
       "      <td>1</td>\n",
       "      <td>660357</td>\n",
       "    </tr>\n",
       "    <tr>\n",
       "      <td>1</td>\n",
       "      <td>2</td>\n",
       "      <td>564178</td>\n",
       "    </tr>\n",
       "    <tr>\n",
       "      <td>2</td>\n",
       "      <td>3</td>\n",
       "      <td>639692</td>\n",
       "    </tr>\n",
       "    <tr>\n",
       "      <td>3</td>\n",
       "      <td>4</td>\n",
       "      <td>649755</td>\n",
       "    </tr>\n",
       "    <tr>\n",
       "      <td>4</td>\n",
       "      <td>5</td>\n",
       "      <td>730039</td>\n",
       "    </tr>\n",
       "    <tr>\n",
       "      <td>5</td>\n",
       "      <td>6</td>\n",
       "      <td>711768</td>\n",
       "    </tr>\n",
       "    <tr>\n",
       "      <td>6</td>\n",
       "      <td>7</td>\n",
       "      <td>730949</td>\n",
       "    </tr>\n",
       "    <tr>\n",
       "      <td>7</td>\n",
       "      <td>8</td>\n",
       "      <td>724522</td>\n",
       "    </tr>\n",
       "    <tr>\n",
       "      <td>8</td>\n",
       "      <td>9</td>\n",
       "      <td>679295</td>\n",
       "    </tr>\n",
       "    <tr>\n",
       "      <td>9</td>\n",
       "      <td>10</td>\n",
       "      <td>687450</td>\n",
       "    </tr>\n",
       "    <tr>\n",
       "      <td>10</td>\n",
       "      <td>11</td>\n",
       "      <td>610733</td>\n",
       "    </tr>\n",
       "    <tr>\n",
       "      <td>11</td>\n",
       "      <td>12</td>\n",
       "      <td>552547</td>\n",
       "    </tr>\n",
       "  </tbody>\n",
       "</table>\n",
       "</div>"
      ],
      "text/plain": [
       "    year_month   count\n",
       "0            1  660357\n",
       "1            2  564178\n",
       "2            3  639692\n",
       "3            4  649755\n",
       "4            5  730039\n",
       "5            6  711768\n",
       "6            7  730949\n",
       "7            8  724522\n",
       "8            9  679295\n",
       "9           10  687450\n",
       "10          11  610733\n",
       "11          12  552547"
      ]
     },
     "execution_count": 57,
     "metadata": {},
     "output_type": "execute_result"
    }
   ],
   "source": [
    "year_month_crime_counts_pddf"
   ]
  },
  {
   "cell_type": "markdown",
   "metadata": {},
   "source": [
    "What happens in MAY through AUGUST?\n",
    "\n",
    " * Salary increase season?\n",
    " * Weather?\n",
    "\n",
    "I think these don't form the Christmas season in Chicago..."
   ]
  },
  {
   "cell_type": "code",
   "execution_count": 58,
   "metadata": {},
   "outputs": [
    {
     "data": {
      "text/plain": [
       "<matplotlib.axes._subplots.AxesSubplot at 0x1a94922f5c8>"
      ]
     },
     "execution_count": 58,
     "metadata": {},
     "output_type": "execute_result"
    },
    {
     "data": {
      "image/png": "[encoded data removed]",
      "text/plain": [
       "<Figure size 1440x576 with 1 Axes>"
      ]
     },
     "metadata": {},
     "output_type": "display_data"
    }
   ],
   "source": [
    "sns.barplot(data=year_month_crime_counts_pddf, y='count', x='year_month')"
   ]
  },
  {
   "cell_type": "markdown",
   "metadata": {},
   "source": [
    "## Day of month"
   ]
  },
  {
   "cell_type": "code",
   "execution_count": 59,
   "metadata": {},
   "outputs": [],
   "source": [
    "month_day_crime_counts = df_dates.groupBy('month_day').count()"
   ]
  },
  {
   "cell_type": "code",
   "execution_count": 60,
   "metadata": {},
   "outputs": [],
   "source": [
    "month_day_crime_counts_pddf = pd.DataFrame(month_day_crime_counts.orderBy('month_day').rdd.map(lambda e: e.asDict()).collect())"
   ]
  },
  {
   "cell_type": "markdown",
   "metadata": {},
   "source": [
    "#### Top 10 worst days of the month"
   ]
  },
  {
   "cell_type": "code",
   "execution_count": 61,
   "metadata": {},
   "outputs": [
    {
     "data": {
      "text/html": [
       "<div>\n",
       "<style scoped>\n",
       "    .dataframe tbody tr th:only-of-type {\n",
       "        vertical-align: middle;\n",
       "    }\n",
       "\n",
       "    .dataframe tbody tr th {\n",
       "        vertical-align: top;\n",
       "    }\n",
       "\n",
       "    .dataframe thead th {\n",
       "        text-align: right;\n",
       "    }\n",
       "</style>\n",
       "<table border=\"1\" class=\"dataframe\">\n",
       "  <thead>\n",
       "    <tr style=\"text-align: right;\">\n",
       "      <th></th>\n",
       "      <th>month_day</th>\n",
       "      <th>count</th>\n",
       "    </tr>\n",
       "  </thead>\n",
       "  <tbody>\n",
       "    <tr>\n",
       "      <td>0</td>\n",
       "      <td>1</td>\n",
       "      <td>309994</td>\n",
       "    </tr>\n",
       "    <tr>\n",
       "      <td>14</td>\n",
       "      <td>15</td>\n",
       "      <td>271113</td>\n",
       "    </tr>\n",
       "    <tr>\n",
       "      <td>19</td>\n",
       "      <td>20</td>\n",
       "      <td>264762</td>\n",
       "    </tr>\n",
       "    <tr>\n",
       "      <td>9</td>\n",
       "      <td>10</td>\n",
       "      <td>263976</td>\n",
       "    </tr>\n",
       "    <tr>\n",
       "      <td>13</td>\n",
       "      <td>14</td>\n",
       "      <td>263507</td>\n",
       "    </tr>\n",
       "    <tr>\n",
       "      <td>11</td>\n",
       "      <td>12</td>\n",
       "      <td>263193</td>\n",
       "    </tr>\n",
       "    <tr>\n",
       "      <td>16</td>\n",
       "      <td>17</td>\n",
       "      <td>261727</td>\n",
       "    </tr>\n",
       "    <tr>\n",
       "      <td>8</td>\n",
       "      <td>9</td>\n",
       "      <td>261387</td>\n",
       "    </tr>\n",
       "    <tr>\n",
       "      <td>15</td>\n",
       "      <td>16</td>\n",
       "      <td>261078</td>\n",
       "    </tr>\n",
       "    <tr>\n",
       "      <td>7</td>\n",
       "      <td>8</td>\n",
       "      <td>260775</td>\n",
       "    </tr>\n",
       "  </tbody>\n",
       "</table>\n",
       "</div>"
      ],
      "text/plain": [
       "    month_day   count\n",
       "0           1  309994\n",
       "14         15  271113\n",
       "19         20  264762\n",
       "9          10  263976\n",
       "13         14  263507\n",
       "11         12  263193\n",
       "16         17  261727\n",
       "8           9  261387\n",
       "15         16  261078\n",
       "7           8  260775"
      ]
     },
     "execution_count": 61,
     "metadata": {},
     "output_type": "execute_result"
    }
   ],
   "source": [
    "month_day_crime_counts_pddf.sort_values(by='count', ascending=False).head(10)"
   ]
  },
  {
   "cell_type": "code",
   "execution_count": 62,
   "metadata": {},
   "outputs": [],
   "source": [
    "month_day_crime_counts_pddf = month_day_crime_counts_pddf.sort_values(by='month_day', ascending=True)"
   ]
  },
  {
   "cell_type": "code",
   "execution_count": 63,
   "metadata": {},
   "outputs": [
    {
     "data": {
      "text/plain": [
       "<matplotlib.legend.Legend at 0x1a949af04c8>"
      ]
     },
     "execution_count": 63,
     "metadata": {},
     "output_type": "execute_result"
    },
    {
     "data": {
      "image/png": "[encoded data removed]",
      "text/plain": [
       "<Figure size 1440x576 with 1 Axes>"
      ]
     },
     "metadata": {},
     "output_type": "display_data"
    }
   ],
   "source": [
    "fg, ax = plt.subplots()\n",
    "\n",
    "ax.plot(month_day_crime_counts_pddf['month_day'], month_day_crime_counts_pddf['count'], label='Crimes over the month')\n",
    "\n",
    "ax.grid(b=True, which='both')\n",
    "ax.legend()"
   ]
  },
  {
   "cell_type": "markdown",
   "metadata": {},
   "source": [
    "### Community areas?\n",
    "\n",
    "Chicago has 77 community areas. How do they appear next to one another in a count plot?"
   ]
  },
  {
   "cell_type": "code",
   "execution_count": 64,
   "metadata": {},
   "outputs": [],
   "source": [
    "df_dates_community_areas = df_dates.na.drop(subset=['community_area']).groupBy('community_area').count()"
   ]
  },
  {
   "cell_type": "markdown",
   "metadata": {},
   "source": [
    "What are the to 10 areas with recorded crime?"
   ]
  },
  {
   "cell_type": "code",
   "execution_count": 65,
   "metadata": {
    "scrolled": true
   },
   "outputs": [
    {
     "name": "stdout",
     "output_type": "stream",
     "text": [
      "+--------------+------+\n",
      "|community_area| count|\n",
      "+--------------+------+\n",
      "|          25.0|467137|\n",
      "|          43.0|237381|\n",
      "|           8.0|235562|\n",
      "|          23.0|229024|\n",
      "|          67.0|216991|\n",
      "|          24.0|213915|\n",
      "|          71.0|207183|\n",
      "|          28.0|206017|\n",
      "|          29.0|202887|\n",
      "|          68.0|197659|\n",
      "+--------------+------+\n",
      "only showing top 10 rows\n",
      "\n"
     ]
    }
   ],
   "source": [
    "df_dates_community_areas.orderBy('count', ascending=False).show(10)"
   ]
  },
  {
   "cell_type": "code",
   "execution_count": 66,
   "metadata": {},
   "outputs": [],
   "source": [
    "## Is it possible to see how the top crime types occur in the top crime-affected areas?\n",
    "top_crime_types = df_dates.select('primary_type').groupBy('primary_type').count().rdd.map(lambda row: row.asDict()).takeOrdered(10, key=lambda l: 1/l['count'])\n",
    "top_busy_areas =  df_dates_community_areas.rdd.map(lambda row: row.asDict()).takeOrdered(10, key=lambda l: 1/l['count'])"
   ]
  },
  {
   "cell_type": "code",
   "execution_count": 67,
   "metadata": {},
   "outputs": [],
   "source": [
    "top_crime_types_lst = [dc['primary_type'] for dc in top_crime_types]\n",
    "top_busy_areas_lst = [dc['community_area'] for dc in top_busy_areas]"
   ]
  },
  {
   "cell_type": "code",
   "execution_count": 68,
   "metadata": {},
   "outputs": [
    {
     "data": {
      "text/plain": [
       "['THEFT',\n",
       " 'BATTERY',\n",
       " 'CRIMINAL DAMAGE',\n",
       " 'NARCOTICS',\n",
       " 'OTHER OFFENSE',\n",
       " 'ASSAULT',\n",
       " 'BURGLARY',\n",
       " 'MOTOR VEHICLE THEFT',\n",
       " 'ROBBERY',\n",
       " 'DECEPTIVE PRACTICE']"
      ]
     },
     "execution_count": 68,
     "metadata": {},
     "output_type": "execute_result"
    }
   ],
   "source": [
    "top_crime_types_lst"
   ]
  },
  {
   "cell_type": "code",
   "execution_count": 69,
   "metadata": {},
   "outputs": [
    {
     "data": {
      "text/plain": [
       "['25.0', '43.0', '8.0', '23.0', '67.0', '24.0', '71.0', '28.0', '29.0', '68.0']"
      ]
     },
     "execution_count": 69,
     "metadata": {},
     "output_type": "execute_result"
    }
   ],
   "source": [
    "top_busy_areas_lst"
   ]
  },
  {
   "cell_type": "markdown",
   "metadata": {},
   "source": [
    "Find crimes of the top 10 types, that were perpetrated in the 10 10 busiest cities..."
   ]
  },
  {
   "cell_type": "code",
   "execution_count": 70,
   "metadata": {},
   "outputs": [
    {
     "name": "stdout",
     "output_type": "stream",
     "text": [
      "instr('25.0 43.0 8.0 23.0 67.0 24.0 71.0 28.0 29.0 68.0', community_area) > 0\n"
     ]
    }
   ],
   "source": [
    "q1 = \"instr('\" + ' '.join(top_busy_areas_lst) + \"', community_area) > 0\"\n",
    "q2 = \"instr('\" + ' '.join(top_crime_types_lst) + \"', primary_type) > 0\"\n",
    "print(q1)"
   ]
  },
  {
   "cell_type": "code",
   "execution_count": 71,
   "metadata": {},
   "outputs": [],
   "source": [
    "## Construct a data frame filtered on these top community areas and top crime types:\n",
    "df_dates_tops = df_dates.filter(q1).filter(q2)"
   ]
  },
  {
   "cell_type": "code",
   "execution_count": 72,
   "metadata": {},
   "outputs": [
    {
     "data": {
      "text/plain": [
       "2608136"
      ]
     },
     "execution_count": 72,
     "metadata": {},
     "output_type": "execute_result"
    }
   ],
   "source": [
    "df_dates_tops.count()"
   ]
  },
  {
   "cell_type": "code",
   "execution_count": 73,
   "metadata": {},
   "outputs": [],
   "source": [
    "tops_of_tops = df_dates_tops.groupBy(['primary_type', 'community_area']).count().orderBy(['primary_type', 'count', 'community_area'], ascending=[True, False, True]).cache()"
   ]
  },
  {
   "cell_type": "code",
   "execution_count": 74,
   "metadata": {},
   "outputs": [
    {
     "name": "stdout",
     "output_type": "stream",
     "text": [
      "+------------+--------------+-----+\n",
      "|primary_type|community_area|count|\n",
      "+------------+--------------+-----+\n",
      "|     ASSAULT|          25.0|27112|\n",
      "|     ASSAULT|          43.0|16358|\n",
      "|     ASSAULT|          67.0|15576|\n",
      "|     ASSAULT|          68.0|15064|\n",
      "|     ASSAULT|          71.0|14342|\n",
      "|     ASSAULT|          23.0|14081|\n",
      "|     ASSAULT|          29.0|12605|\n",
      "|     ASSAULT|          28.0|11096|\n",
      "|     ASSAULT|          24.0|10119|\n",
      "|     ASSAULT|           8.0| 8385|\n",
      "|     ASSAULT|           1.0| 6459|\n",
      "|     ASSAULT|           3.0| 6335|\n",
      "|     ASSAULT|           7.0| 2871|\n",
      "|     ASSAULT|           4.0| 2427|\n",
      "|     ASSAULT|           5.0| 1726|\n",
      "|     ASSAULT|           9.0|  362|\n",
      "|     BATTERY|          25.0|91430|\n",
      "|     BATTERY|          43.0|51026|\n",
      "|     BATTERY|          67.0|50855|\n",
      "|     BATTERY|          68.0|49025|\n",
      "+------------+--------------+-----+\n",
      "only showing top 20 rows\n",
      "\n"
     ]
    }
   ],
   "source": [
    "tops_of_tops.show(20)"
   ]
  },
  {
   "cell_type": "markdown",
   "metadata": {},
   "source": [
    "#### Community area names\n",
    "\n",
    "Let's link names of these community areas. These float numbers are having a hard time making any sense...\n",
    "\n",
    "Sourced from Chicago Tribune at http://www.chicagotribune.com/chi-community-areas-htmlstory.html\n"
   ]
  },
  {
   "cell_type": "code",
   "execution_count": 75,
   "metadata": {},
   "outputs": [],
   "source": [
    "area_names = \"\"\"\n",
    "01\tRogers Park\t\n",
    "40\tWashington Park\n",
    "02\tWest Ridge\t\n",
    "41\tHyde Park\n",
    "03\tUptown\t\n",
    "42\tWoodlawn\n",
    "04\tLincoln Square\t\n",
    "43\tSouth Shore\n",
    "05\tNorth Center\t\n",
    "44\tChatham\n",
    "06\tLakeview\t\n",
    "45\tAvalon Park\n",
    "07\tLincoln Park\t\n",
    "46\tSouth Chicago\n",
    "08\tNear North Side\t\n",
    "47\tBurnside\n",
    "09\tEdison Park\t\n",
    "48\tCalumet Heights\n",
    "10\tNorwood Park\t\n",
    "49\tRoseland\n",
    "11\tJefferson Park\t\n",
    "50\tPullman\n",
    "12\tForest Glen\t\n",
    "51\tSouth Deering\n",
    "13\tNorth Park\t\n",
    "52\tEast Side\n",
    "14\tAlbany Park\t\n",
    "53\tWest Pullman\n",
    "15\tPortage Park\t\n",
    "54\tRiverdale\n",
    "16\tIrving Park\t\n",
    "55\tHegewisch\n",
    "17\tDunning\t\n",
    "56\tGarfield Ridge\n",
    "18\tMontclare\t\n",
    "57\tArcher Heights\n",
    "19\tBelmont Cragin\t\n",
    "58\tBrighton Park\n",
    "20\tHermosa\t\n",
    "59\tMcKinley Park\n",
    "21\tAvondale\t\n",
    "60\tBridgeport\n",
    "22\tLogan Square\t\n",
    "61\tNew City\n",
    "23\tHumboldt Park\t\n",
    "62\tWest Elsdon\n",
    "24\tWest Town\t\n",
    "63\tGage Park\n",
    "25\tAustin\t\n",
    "64\tClearing\n",
    "26\tWest Garfield Park \t\n",
    "65\tWest Lawn\n",
    "27\tEast Garfield Park\t\n",
    "66\tChicago Lawn\n",
    "28\tNear West Side\t\n",
    "67\tWest Englewood\n",
    "29\tNorth Lawndale\t\n",
    "68\tEnglewood\n",
    "30\tSouth Lawndale\t\n",
    "69\tGreater Grand Crossing\n",
    "31\tLower West Side\t\n",
    "70\tAshburn\n",
    "32\tLoop\t\n",
    "71\tAuburn Gresham\t\n",
    "33\tNear South Side\t\n",
    "72\tBeverly\n",
    "34\tArmour Square\t\n",
    "73\tWashington Heights\n",
    "35\tDouglas\t\n",
    "74\tMount Greenwood\n",
    "36\tOakland\t\n",
    "75\tMorgan Park\n",
    "37\tFuller Park\t\n",
    "76\tO'Hare\n",
    "38\tGrand Boulevard\t\n",
    "77\tEdgewater\n",
    "39\tKenwood\t\n",
    "\"\"\""
   ]
  },
  {
   "cell_type": "code",
   "execution_count": 76,
   "metadata": {},
   "outputs": [],
   "source": [
    "code_pairs = [[float(p[0]), p[1]] for p in [pair.strip().split('\\t') for pair in area_names.strip().split('\\n')]]"
   ]
  },
  {
   "cell_type": "code",
   "execution_count": 77,
   "metadata": {},
   "outputs": [
    {
     "data": {
      "text/plain": [
       "[[1.0, 'Rogers Park'],\n",
       " [40.0, 'Washington Park'],\n",
       " [2.0, 'West Ridge'],\n",
       " [41.0, 'Hyde Park'],\n",
       " [3.0, 'Uptown']]"
      ]
     },
     "execution_count": 77,
     "metadata": {},
     "output_type": "execute_result"
    }
   ],
   "source": [
    "code_pairs[:5]"
   ]
  },
  {
   "cell_type": "markdown",
   "metadata": {},
   "source": [
    "#### A view of crime count per community area"
   ]
  },
  {
   "cell_type": "code",
   "execution_count": 78,
   "metadata": {},
   "outputs": [],
   "source": [
    "community_area_counts = pd.DataFrame(df_dates_community_areas.rdd.map(lambda row: row.asDict()).collect())"
   ]
  },
  {
   "cell_type": "code",
   "execution_count": 79,
   "metadata": {},
   "outputs": [],
   "source": [
    "# Create a dictionary of area code to names\n",
    "area_name_dic = {float(k[0]):k[1] for k in code_pairs}"
   ]
  },
  {
   "cell_type": "code",
   "execution_count": 80,
   "metadata": {},
   "outputs": [],
   "source": [
    "community_area_counts['community_area_name'] = community_area_counts['community_area'].apply(lambda area: area_name_dic.get(float(area),  'unknown_%s'%area))"
   ]
  },
  {
   "cell_type": "code",
   "execution_count": 81,
   "metadata": {},
   "outputs": [
    {
     "data": {
      "text/html": [
       "<div>\n",
       "<style scoped>\n",
       "    .dataframe tbody tr th:only-of-type {\n",
       "        vertical-align: middle;\n",
       "    }\n",
       "\n",
       "    .dataframe tbody tr th {\n",
       "        vertical-align: top;\n",
       "    }\n",
       "\n",
       "    .dataframe thead th {\n",
       "        text-align: right;\n",
       "    }\n",
       "</style>\n",
       "<table border=\"1\" class=\"dataframe\">\n",
       "  <thead>\n",
       "    <tr style=\"text-align: right;\">\n",
       "      <th></th>\n",
       "      <th>community_area</th>\n",
       "      <th>count</th>\n",
       "      <th>community_area_name</th>\n",
       "    </tr>\n",
       "  </thead>\n",
       "  <tbody>\n",
       "    <tr>\n",
       "      <td>22</td>\n",
       "      <td>0.0</td>\n",
       "      <td>114</td>\n",
       "      <td>unknown_0.0</td>\n",
       "    </tr>\n",
       "    <tr>\n",
       "      <td>24</td>\n",
       "      <td>9.0</td>\n",
       "      <td>6983</td>\n",
       "      <td>Edison Park</td>\n",
       "    </tr>\n",
       "    <tr>\n",
       "      <td>11</td>\n",
       "      <td>47.0</td>\n",
       "      <td>10957</td>\n",
       "      <td>Burnside</td>\n",
       "    </tr>\n",
       "    <tr>\n",
       "      <td>25</td>\n",
       "      <td>12.0</td>\n",
       "      <td>12969</td>\n",
       "      <td>Forest Glen</td>\n",
       "    </tr>\n",
       "    <tr>\n",
       "      <td>53</td>\n",
       "      <td>55.0</td>\n",
       "      <td>15554</td>\n",
       "      <td>Hegewisch</td>\n",
       "    </tr>\n",
       "  </tbody>\n",
       "</table>\n",
       "</div>"
      ],
      "text/plain": [
       "   community_area  count community_area_name\n",
       "22            0.0    114         unknown_0.0\n",
       "24            9.0   6983         Edison Park\n",
       "11           47.0  10957            Burnside\n",
       "25           12.0  12969         Forest Glen\n",
       "53           55.0  15554           Hegewisch"
      ]
     },
     "execution_count": 81,
     "metadata": {},
     "output_type": "execute_result"
    }
   ],
   "source": [
    "community_area_counts = community_area_counts.sort_values(by='count')\n",
    "community_area_counts.head(5)"
   ]
  },
  {
   "cell_type": "markdown",
   "metadata": {},
   "source": [
    "**What is happening in Austin?**"
   ]
  },
  {
   "cell_type": "markdown",
   "metadata": {},
   "source": [
    "plt.rcParams[\"figure.figsize\"] = [32, 32]\n",
    "\n",
    "sns.set(style=\"whitegrid\")\n",
    "sns.set_color_codes(\"pastel\")\n",
    "\n",
    "#sns.despine(left=True, bottom=True)\n",
    "area_chart = sns.barplot(x='count', y='community_area_name', data=community_area_counts)\n",
    "area_chart.set(ylabel=\"Community Area Name\", xlabel=\"Overall Crimes Record Count\")"
   ]
  },
  {
   "cell_type": "markdown",
   "metadata": {},
   "source": [
    "** *Join these community areas on the main data frame* **"
   ]
  },
  {
   "cell_type": "code",
   "execution_count": 82,
   "metadata": {},
   "outputs": [],
   "source": [
    "code_pairs_df = spark.createDataFrame(code_pairs, ['community_area', 'area_name'])"
   ]
  },
  {
   "cell_type": "code",
   "execution_count": 83,
   "metadata": {},
   "outputs": [],
   "source": [
    "named_tops_of_tops = code_pairs_df.join(tops_of_tops, on='community_area', how='right')"
   ]
  },
  {
   "cell_type": "code",
   "execution_count": 84,
   "metadata": {
    "scrolled": true
   },
   "outputs": [
    {
     "name": "stdout",
     "output_type": "stream",
     "text": [
      "+--------------+---------------+-------------------+-----+\n",
      "|community_area|      area_name|       primary_type|count|\n",
      "+--------------+---------------+-------------------+-----+\n",
      "|           8.0|Near North Side|            ASSAULT| 8385|\n",
      "|           8.0|Near North Side|            BATTERY|31008|\n",
      "|           8.0|Near North Side|           BURGLARY| 5635|\n",
      "|           8.0|Near North Side|    CRIMINAL DAMAGE|15840|\n",
      "|           8.0|Near North Side| DECEPTIVE PRACTICE|20796|\n",
      "|           8.0|Near North Side|MOTOR VEHICLE THEFT| 4961|\n",
      "|           8.0|Near North Side|          NARCOTICS|12647|\n",
      "|           8.0|Near North Side|      OTHER OFFENSE| 8621|\n",
      "|           8.0|Near North Side|            ROBBERY| 5763|\n",
      "|           8.0|Near North Side|              THEFT|96280|\n",
      "+--------------+---------------+-------------------+-----+\n",
      "only showing top 10 rows\n",
      "\n"
     ]
    }
   ],
   "source": [
    "named_tops_of_tops.show(10)"
   ]
  },
  {
   "cell_type": "code",
   "execution_count": 85,
   "metadata": {},
   "outputs": [],
   "source": [
    "tops_of_tops_dff = pd.DataFrame(named_tops_of_tops.rdd.map(lambda l: l.asDict()).collect() )"
   ]
  },
  {
   "cell_type": "code",
   "execution_count": 86,
   "metadata": {
    "scrolled": false
   },
   "outputs": [
    {
     "data": {
      "text/plain": [
       "<matplotlib.axes._subplots.AxesSubplot at 0x1a94978b0c8>"
      ]
     },
     "execution_count": 86,
     "metadata": {},
     "output_type": "execute_result"
    },
    {
     "data": {
      "image/png": "[encoded data removed]",
      "text/plain": [
       "<Figure size 4608x1152 with 1 Axes>"
      ]
     },
     "metadata": {},
     "output_type": "display_data"
    }
   ],
   "source": [
    "plt.rcParams[\"figure.figsize\"] = [64, 16]\n",
    "sns.barplot(data=tops_of_tops_dff, x='area_name', y='count', hue='primary_type', palette='pastel')"
   ]
  },
  {
   "cell_type": "markdown",
   "metadata": {},
   "source": [
    "---\n",
    "\n",
    "\n",
    "# Can we try to predict the primary type of crime?\n",
    "\n",
    "Now on to another objective of this exercise. We're going to try to predict what kind of crime is going to occur given the selected features.\n",
    "\n",
    "Speaking about features, here's the list of predictors that I chose to go for:\n",
    "\n",
    "### Excluded variables:\n",
    "\n",
    " * 'id' - Random information that isn't a predictor of crime type\n",
    " * 'case_number' - Random information that isn't a predictor of crime type\n",
    " * 'date' - Removed because it's been re-featurized in other features generated above\n",
    " * 'block' - Excluded as this may simply mean noise\n",
    " * 'iucr' - Excluded as correlated with crime type. No point.\n",
    " * 'x_coordinate' - Not included\n",
    " * 'y_coordinate' - Not included\n",
    " * 'year' - Not included (already otherwise featurized)\n",
    " * 'updated_on' - not included\n",
    " * 'latitude' - not included\n",
    " * 'longitude' - not included\n",
    " * 'location' - not included\n",
    " * 'date_time' - Taken into account in other time-related features\n",
    " * 'description' - Excluded. I want to see this as associated with the response (primary type)\n",
    "\n",
    "\n",
    "### Selected predictors:\n",
    "\n",
    " * 'location_description'\n",
    " * 'arrest'\n",
    " * 'domestic'\n",
    " * 'beat'\n",
    " * 'district'\n",
    " * 'ward'\n",
    " * 'community_area'\n",
    " * 'fbi_code'\n",
    " * 'hour'\n",
    " * 'week_day'\n",
    " * 'year_month'\n",
    " * 'month_day'\n",
    " * 'date_number'"
   ]
  },
  {
   "cell_type": "code",
   "execution_count": 87,
   "metadata": {},
   "outputs": [],
   "source": [
    "selected_features = [\n",
    " 'location_description',\n",
    " 'arrest',\n",
    " 'domestic',\n",
    " 'beat',\n",
    " 'district',\n",
    " 'ward',\n",
    " 'community_area',\n",
    " 'fbi_code',\n",
    " 'hour',\n",
    " 'week_day',\n",
    " 'year_month',\n",
    " 'month_day',\n",
    " 'date_number']"
   ]
  },
  {
   "cell_type": "code",
   "execution_count": 88,
   "metadata": {},
   "outputs": [
    {
     "name": "stdout",
     "output_type": "stream",
     "text": [
      "root\n",
      " |-- location_description: string (nullable = true)\n",
      " |-- arrest: string (nullable = true)\n",
      " |-- domestic: string (nullable = true)\n",
      " |-- beat: string (nullable = true)\n",
      " |-- district: string (nullable = true)\n",
      " |-- ward: string (nullable = true)\n",
      " |-- community_area: string (nullable = true)\n",
      " |-- fbi_code: string (nullable = true)\n",
      " |-- hour: integer (nullable = true)\n",
      " |-- week_day: integer (nullable = true)\n",
      " |-- year_month: integer (nullable = true)\n",
      " |-- month_day: integer (nullable = true)\n",
      " |-- date_number: integer (nullable = true)\n",
      "\n"
     ]
    }
   ],
   "source": [
    "#Let's see the schema of these selected features:\n",
    "features_df = df_dates.select(selected_features)\n",
    "features_df.printSchema()"
   ]
  },
  {
   "cell_type": "markdown",
   "metadata": {},
   "source": [
    "Let's try to see all level counts in all the selected features..."
   ]
  },
  {
   "cell_type": "code",
   "execution_count": 89,
   "metadata": {},
   "outputs": [
    {
     "name": "stdout",
     "output_type": "stream",
     "text": [
      "Analysing location_description\n",
      "Analysing arrest\n",
      "Analysing domestic\n",
      "Analysing beat\n",
      "Analysing district\n",
      "Analysing ward\n",
      "Analysing community_area\n",
      "Analysing fbi_code\n",
      "Analysing hour\n",
      "Analysing week_day\n",
      "Analysing year_month\n",
      "Analysing month_day\n",
      "Analysing date_number\n"
     ]
    }
   ],
   "source": [
    "feature_level_count_dic = []\n",
    "\n",
    "for feature in selected_features:\n",
    "    print('Analysing %s' % feature)\n",
    "    levels_list_df = features_df.select(feature).distinct()\n",
    "    feature_level_count_dic.append({'feature': feature, 'level_count': levels_list_df.count()})\n"
   ]
  },
  {
   "cell_type": "code",
   "execution_count": 90,
   "metadata": {},
   "outputs": [
    {
     "data": {
      "text/html": [
       "<div>\n",
       "<style scoped>\n",
       "    .dataframe tbody tr th:only-of-type {\n",
       "        vertical-align: middle;\n",
       "    }\n",
       "\n",
       "    .dataframe tbody tr th {\n",
       "        vertical-align: top;\n",
       "    }\n",
       "\n",
       "    .dataframe thead th {\n",
       "        text-align: right;\n",
       "    }\n",
       "</style>\n",
       "<table border=\"1\" class=\"dataframe\">\n",
       "  <thead>\n",
       "    <tr style=\"text-align: right;\">\n",
       "      <th></th>\n",
       "      <th>feature</th>\n",
       "      <th>level_count</th>\n",
       "    </tr>\n",
       "  </thead>\n",
       "  <tbody>\n",
       "    <tr>\n",
       "      <td>12</td>\n",
       "      <td>date_number</td>\n",
       "      <td>5862</td>\n",
       "    </tr>\n",
       "    <tr>\n",
       "      <td>3</td>\n",
       "      <td>beat</td>\n",
       "      <td>304</td>\n",
       "    </tr>\n",
       "    <tr>\n",
       "      <td>0</td>\n",
       "      <td>location_description</td>\n",
       "      <td>173</td>\n",
       "    </tr>\n",
       "    <tr>\n",
       "      <td>6</td>\n",
       "      <td>community_area</td>\n",
       "      <td>79</td>\n",
       "    </tr>\n",
       "    <tr>\n",
       "      <td>5</td>\n",
       "      <td>ward</td>\n",
       "      <td>51</td>\n",
       "    </tr>\n",
       "    <tr>\n",
       "      <td>11</td>\n",
       "      <td>month_day</td>\n",
       "      <td>31</td>\n",
       "    </tr>\n",
       "    <tr>\n",
       "      <td>4</td>\n",
       "      <td>district</td>\n",
       "      <td>27</td>\n",
       "    </tr>\n",
       "    <tr>\n",
       "      <td>7</td>\n",
       "      <td>fbi_code</td>\n",
       "      <td>26</td>\n",
       "    </tr>\n",
       "    <tr>\n",
       "      <td>8</td>\n",
       "      <td>hour</td>\n",
       "      <td>24</td>\n",
       "    </tr>\n",
       "    <tr>\n",
       "      <td>10</td>\n",
       "      <td>year_month</td>\n",
       "      <td>12</td>\n",
       "    </tr>\n",
       "    <tr>\n",
       "      <td>9</td>\n",
       "      <td>week_day</td>\n",
       "      <td>7</td>\n",
       "    </tr>\n",
       "    <tr>\n",
       "      <td>1</td>\n",
       "      <td>arrest</td>\n",
       "      <td>2</td>\n",
       "    </tr>\n",
       "    <tr>\n",
       "      <td>2</td>\n",
       "      <td>domestic</td>\n",
       "      <td>2</td>\n",
       "    </tr>\n",
       "  </tbody>\n",
       "</table>\n",
       "</div>"
      ],
      "text/plain": [
       "                 feature  level_count\n",
       "12           date_number         5862\n",
       "3                   beat          304\n",
       "0   location_description          173\n",
       "6         community_area           79\n",
       "5                   ward           51\n",
       "11             month_day           31\n",
       "4               district           27\n",
       "7               fbi_code           26\n",
       "8                   hour           24\n",
       "10            year_month           12\n",
       "9               week_day            7\n",
       "1                 arrest            2\n",
       "2               domestic            2"
      ]
     },
     "execution_count": 90,
     "metadata": {},
     "output_type": "execute_result"
    }
   ],
   "source": [
    "pd.DataFrame(feature_level_count_dic).sort_values(by='level_count', ascending=False)"
   ]
  },
  {
   "cell_type": "markdown",
   "metadata": {},
   "source": [
    "### Preparing model"
   ]
  },
  {
   "cell_type": "code",
   "execution_count": 91,
   "metadata": {},
   "outputs": [],
   "source": [
    "from pyspark.ml.feature import StringIndexer, VectorAssembler\n",
    "df_dates_features = df_dates.na.drop(subset=selected_features)"
   ]
  },
  {
   "cell_type": "markdown",
   "metadata": {},
   "source": [
    "Let us use Spark's string indexer to index selected features"
   ]
  },
  {
   "cell_type": "code",
   "execution_count": null,
   "metadata": {},
   "outputs": [],
   "source": [
    "for feature in feature_level_count_dic:\n",
    "    indexer = StringIndexer(inputCol=feature['feature'], outputCol='%s_indexed' % feature['feature'])\n",
    "    print('Fitting feature \"%s\"' % feature['feature'])\n",
    "    model = indexer.fit(df_dates_features)\n",
    "    print('Transforming \"%s\"' % feature['feature'])\n",
    "    df_dates_features = model.transform(df_dates_features)"
   ]
  },
  {
   "cell_type": "markdown",
   "metadata": {},
   "source": [
    "Now let's do the same with the label"
   ]
  },
  {
   "cell_type": "code",
   "execution_count": null,
   "metadata": {},
   "outputs": [],
   "source": [
    "## String-index the response variable:\n",
    "response_indexer = StringIndexer(inputCol='primary_type', outputCol='primary_type_indexed')\n",
    "response_model = response_indexer.fit(df_dates_features)\n",
    "df_dates_features = response_model.transform(df_dates_features)"
   ]
  },
  {
   "cell_type": "code",
   "execution_count": null,
   "metadata": {},
   "outputs": [],
   "source": [
    "#What does it look like now...\n",
    "df_dates_features.show(1)"
   ]
  },
  {
   "cell_type": "markdown",
   "metadata": {},
   "source": [
    "Let's vectorize the features\n",
    "\n",
    "We use a vector assembler to vectorize all predictors into a `features` column"
   ]
  },
  {
   "cell_type": "code",
   "execution_count": null,
   "metadata": {},
   "outputs": [],
   "source": [
    "indexed_features = ['%s_indexed' % fc['feature'] for fc in feature_level_count_dic]\n",
    "indexed_features"
   ]
  },
  {
   "cell_type": "code",
   "execution_count": null,
   "metadata": {},
   "outputs": [],
   "source": [
    "assembler = VectorAssembler(inputCols=indexed_features, outputCol='features')\n",
    "vectorized_df_dates = assembler.transform(df_dates_features)"
   ]
  },
  {
   "cell_type": "code",
   "execution_count": null,
   "metadata": {},
   "outputs": [],
   "source": [
    "vectorized_df_dates.select('features').take(1)"
   ]
  },
  {
   "cell_type": "markdown",
   "metadata": {},
   "source": [
    "### Now let's train the model.\n",
    "\n",
    "We're using **60%** to **40%** split between the train and the test datasets\n",
    "\n",
    "Let's try to train a logistic regression."
   ]
  },
  {
   "cell_type": "code",
   "execution_count": null,
   "metadata": {},
   "outputs": [],
   "source": [
    "train, test = vectorized_df_dates.randomSplit([0.6, 0.4])"
   ]
  },
  {
   "cell_type": "code",
   "execution_count": null,
   "metadata": {},
   "outputs": [],
   "source": [
    "from pyspark.ml.classification import LogisticRegression"
   ]
  },
  {
   "cell_type": "code",
   "execution_count": null,
   "metadata": {},
   "outputs": [],
   "source": [
    "logisticRegression = LogisticRegression(labelCol='primary_type_indexed', featuresCol='features', maxIter=10, family='multinomial')"
   ]
  },
  {
   "cell_type": "code",
   "execution_count": null,
   "metadata": {},
   "outputs": [],
   "source": [
    "fittedModel = logisticRegression.fit(train)"
   ]
  },
  {
   "cell_type": "markdown",
   "metadata": {},
   "source": [
    "## Model performance?"
   ]
  },
  {
   "cell_type": "code",
   "execution_count": null,
   "metadata": {},
   "outputs": [],
   "source": [
    "fittedModel.summary.accuracy"
   ]
  },
  {
   "cell_type": "code",
   "execution_count": null,
   "metadata": {},
   "outputs": [],
   "source": [
    "model_summary = fittedModel.summary"
   ]
  },
  {
   "cell_type": "code",
   "execution_count": null,
   "metadata": {},
   "outputs": [],
   "source": [
    "fittedModel.coefficientMatrix"
   ]
  },
  {
   "cell_type": "markdown",
   "metadata": {},
   "source": [
    "#### Why the 34X13 shape?\n",
    "\n",
    "That's because the multinomial logistic regression is fitted on **each class** of the label. It computes the probability of each class and then predicts based on these probabilities."
   ]
  },
  {
   "cell_type": "code",
   "execution_count": null,
   "metadata": {},
   "outputs": [],
   "source": [
    "print(fittedModel.coefficientMatrix)"
   ]
  },
  {
   "cell_type": "code",
   "execution_count": null,
   "metadata": {},
   "outputs": [],
   "source": [
    "print('Coefficient matrix:\\nRow count = %s\\nCol count = %s' % (fittedModel.coefficientMatrix.numRows, fittedModel.coefficientMatrix.numCols))"
   ]
  },
  {
   "cell_type": "code",
   "execution_count": null,
   "metadata": {},
   "outputs": [],
   "source": [
    "print('Model:\\nNum Classes = %s\\nNum Features = %s' % (fittedModel.numClasses, fittedModel.numFeatures))"
   ]
  },
  {
   "cell_type": "code",
   "execution_count": null,
   "metadata": {},
   "outputs": [],
   "source": [
    "print('Training \"primary_type\" factor level count = %s' % train.select('primary_type_indexed').distinct().count())"
   ]
  },
  {
   "cell_type": "markdown",
   "metadata": {},
   "source": [
    "So our `randomSplit` call to split train/test data sets took some primary types to only either of the two parts"
   ]
  },
  {
   "cell_type": "code",
   "execution_count": null,
   "metadata": {},
   "outputs": [],
   "source": [
    "vectorized_df_dates.select('features').show(2, truncate=False)"
   ]
  },
  {
   "cell_type": "code",
   "execution_count": null,
   "metadata": {},
   "outputs": [],
   "source": [
    "fittedModel.numClasses"
   ]
  },
  {
   "cell_type": "code",
   "execution_count": null,
   "metadata": {},
   "outputs": [],
   "source": [
    "fittedModel.numFeatures"
   ]
  },
  {
   "cell_type": "code",
   "execution_count": null,
   "metadata": {},
   "outputs": [],
   "source": [
    "train.select('primary_type_indexed').distinct().count()"
   ]
  },
  {
   "cell_type": "code",
   "execution_count": null,
   "metadata": {},
   "outputs": [],
   "source": [
    "df_dates.select('primary_type').distinct().count()"
   ]
  },
  {
   "cell_type": "code",
   "execution_count": null,
   "metadata": {},
   "outputs": [],
   "source": [
    "fittedModel.interceptVector.values.size"
   ]
  },
  {
   "cell_type": "code",
   "execution_count": null,
   "metadata": {},
   "outputs": [],
   "source": [
    "print(model_summary.objectiveHistory)\n",
    "print()\n",
    "print('Objective history size ', len(model_summary.objectiveHistory))"
   ]
  },
  {
   "cell_type": "code",
   "execution_count": null,
   "metadata": {},
   "outputs": [],
   "source": [
    "sns.barplot(y=model_summary.objectiveHistory, x=list(range(len(model_summary.objectiveHistory))))"
   ]
  },
  {
   "cell_type": "code",
   "execution_count": null,
   "metadata": {
    "scrolled": false
   },
   "outputs": [],
   "source": [
    "label_stats = {float(i):{'index': float(i)} for i in range(34)}\n",
    "print(label_stats)"
   ]
  },
  {
   "cell_type": "code",
   "execution_count": null,
   "metadata": {},
   "outputs": [],
   "source": [
    "print(\"False positive rate by label:\")\n",
    "for i, rate in enumerate(model_summary.falsePositiveRateByLabel):\n",
    "    label_stats[i]['false_positive_rate'] = rate\n",
    "    \n",
    "for i, rate in enumerate(model_summary.truePositiveRateByLabel):\n",
    "    label_stats[i]['true_positive_rate'] = rate\n",
    "    \n",
    "for i, rate in enumerate(model_summary.precisionByLabel):\n",
    "    label_stats[i]['precision_rate'] = rate\n",
    "    \n",
    "for i, rate in enumerate(model_summary.recallByLabel):\n",
    "    label_stats[i]['recall_rate'] = rate\n",
    "    \n",
    "for i, rate in enumerate(model_summary.fMeasureByLabel()):\n",
    "    label_stats[i]['f_measure'] = rate"
   ]
  },
  {
   "cell_type": "code",
   "execution_count": null,
   "metadata": {},
   "outputs": [],
   "source": [
    "train_rdd = train.select(['primary_type', 'primary_type_indexed']).distinct().orderBy('primary_type_indexed').rdd.map(lambda l: l.asDict()).collect()\n"
   ]
  },
  {
   "cell_type": "code",
   "execution_count": null,
   "metadata": {},
   "outputs": [],
   "source": [
    "for l in train_rdd:\n",
    "    print(l)\n",
    "    label_stats[l['primary_type_indexed']]['primary_type'] = l['primary_type']"
   ]
  },
  {
   "cell_type": "code",
   "execution_count": null,
   "metadata": {},
   "outputs": [],
   "source": [
    "rates_pddf = pd.DataFrame(list(label_stats.values()))"
   ]
  },
  {
   "cell_type": "code",
   "execution_count": null,
   "metadata": {},
   "outputs": [],
   "source": [
    "rates_pddf = rates_pddf.sort_values(by='precision_rate', ascending=False)"
   ]
  },
  {
   "cell_type": "markdown",
   "metadata": {},
   "source": [
    "#### Why does this model seem to be so good at predicting theft? (TODO)"
   ]
  },
  {
   "cell_type": "code",
   "execution_count": null,
   "metadata": {},
   "outputs": [],
   "source": [
    "rates_pddf"
   ]
  },
  {
   "cell_type": "markdown",
   "metadata": {},
   "source": [
    "## TODO:\n",
    "\n",
    " * Run the model on the test dataset"
   ]
  },
  {
   "cell_type": "code",
   "execution_count": null,
   "metadata": {},
   "outputs": [],
   "source": []
  }
 ],
 "metadata": {
  "kernelspec": {
   "display_name": "Python 3",
   "language": "python",
   "name": "python3"
  },
  "language_info": {
   "codemirror_mode": {
    "name": "ipython",
    "version": 3
   },
   "file_extension": ".py",
   "mimetype": "text/x-python",
   "name": "python",
   "nbconvert_exporter": "python",
   "pygments_lexer": "ipython3",
   "version": "3.7.4"
  }
 },
 "nbformat": 4,
 "nbformat_minor": 2
}
